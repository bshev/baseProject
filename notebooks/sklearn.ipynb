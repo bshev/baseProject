{
 "cells": [
  {
   "cell_type": "code",
   "execution_count": 13,
   "id": "35b5d6c7-527e-4b3c-a943-c7b6fc711be4",
   "metadata": {},
   "outputs": [],
   "source": [
    "import sklearn.datasets as datasets\n",
    "import sklearn.model_selection as model_selection\n",
    "import numpy as np"
   ]
  },
  {
   "cell_type": "code",
   "execution_count": 3,
   "id": "171caf48-3c27-4512-a476-97e462d113a9",
   "metadata": {},
   "outputs": [
    {
     "name": "stdout",
     "output_type": "stream",
     "text": [
      "<class 'pandas.core.frame.DataFrame'>\n",
      "RangeIndex: 150 entries, 0 to 149\n",
      "Data columns (total 5 columns):\n",
      " #   Column             Non-Null Count  Dtype  \n",
      "---  ------             --------------  -----  \n",
      " 0   sepal length (cm)  150 non-null    float64\n",
      " 1   sepal width (cm)   150 non-null    float64\n",
      " 2   petal length (cm)  150 non-null    float64\n",
      " 3   petal width (cm)   150 non-null    float64\n",
      " 4   target             150 non-null    int64  \n",
      "dtypes: float64(4), int64(1)\n",
      "memory usage: 6.0 KB\n"
     ]
    }
   ],
   "source": [
    "iris = datasets.load_iris(as_frame=True)\n",
    "df_iris = iris['frame']\n",
    "\n",
    "df_iris.info()"
   ]
  },
  {
   "cell_type": "code",
   "execution_count": 14,
   "id": "5e1c2e94-7199-48b2-9117-75ec1594cf10",
   "metadata": {},
   "outputs": [],
   "source": [
    "X = df_iris[df_iris.columns[0:-1]]\n",
    "Y = df_iris['target']\n",
    "\n",
    "X_train, X_test, Y_train, Y_test = model_selection.train_test_split(X, Y, test_size=0.1, random_state=np.random.randint(0,2**10))"
   ]
  },
  {
   "cell_type": "code",
   "execution_count": 17,
   "id": "0a9247c5-0403-4cea-b0de-dad427f21cce",
   "metadata": {},
   "outputs": [],
   "source": [
    "from sklearn import tree\n",
    "\n",
    "model = tree.DecisionTreeClassifier()\n",
    "model = model.fit(X_train, Y_train)"
   ]
  },
  {
   "cell_type": "code",
   "execution_count": 31,
   "id": "715a1713-d64b-458b-8824-7673d35f2f4e",
   "metadata": {},
   "outputs": [
    {
     "name": "stdout",
     "output_type": "stream",
     "text": [
      " Accuracy: 86.67%\n"
     ]
    }
   ],
   "source": [
    "accuracy = model.score(X_test, Y_test)\n",
    "print(f\" Accuracy: {100*accuracy:.2f}%\")"
   ]
  },
  {
   "cell_type": "code",
   "execution_count": 33,
   "id": "ae2398c1-1321-42db-928a-60ccf4724d88",
   "metadata": {},
   "outputs": [
    {
     "name": "stdout",
     "output_type": "stream",
     "text": [
      " Accuracy: 86.67%\n"
     ]
    }
   ],
   "source": [
    "import sklearn.metrics as metrics\n",
    "\n",
    "predict = model.predict(X_test)\n",
    "\n",
    "accuracy = metrics.accuracy_score(Y_test,predict)\n",
    "print(f\" Accuracy: {100*accuracy:.2f}%\")"
   ]
  },
  {
   "cell_type": "code",
   "execution_count": 37,
   "id": "52fe3b89-cebc-42d9-a559-2301c1e9bfc3",
   "metadata": {},
   "outputs": [
    {
     "name": "stdout",
     "output_type": "stream",
     "text": [
      "              precision    recall  f1-score   support\n",
      "\n",
      "           0       1.00      1.00      1.00         5\n",
      "           1       0.67      0.67      0.67         3\n",
      "           2       0.86      0.86      0.86         7\n",
      "\n",
      "    accuracy                           0.87        15\n",
      "   macro avg       0.84      0.84      0.84        15\n",
      "weighted avg       0.87      0.87      0.87        15\n",
      "\n",
      "[[0.83333333 0.         0.        ]\n",
      " [0.         0.33333333 0.16666667]\n",
      " [0.         0.16666667 1.        ]]\n"
     ]
    }
   ],
   "source": [
    "report = metrics.classification_report(Y_test,predict)\n",
    "confusion = metrics.confusion_matrix(Y_test,predict)\n",
    "confusion = confusion/confusion.max()\n",
    "\n",
    "print(report)\n",
    "print(confusion)"
   ]
  },
  {
   "cell_type": "code",
   "execution_count": null,
   "id": "36af4cfb-a978-48fb-a046-a5ee2ddc7938",
   "metadata": {},
   "outputs": [],
   "source": [
    "names = [\n",
    "    \"Nearest Neighbors\",\n",
    "    \"Linear SVM\",\n",
    "    \"RBF SVM\",\n",
    "    \"Gaussian Process\",\n",
    "    \"Decision Tree\",\n",
    "    \"Random Forest\",\n",
    "    \"Neural Net\",\n",
    "    \"AdaBoost\",\n",
    "    \"Naive Bayes\",\n",
    "    \"QDA\",\n",
    "]"
   ]
  }
 ],
 "metadata": {
  "kernelspec": {
   "display_name": "Python 3 (ipykernel)",
   "language": "python",
   "name": "python3"
  },
  "language_info": {
   "codemirror_mode": {
    "name": "ipython",
    "version": 3
   },
   "file_extension": ".py",
   "mimetype": "text/x-python",
   "name": "python",
   "nbconvert_exporter": "python",
   "pygments_lexer": "ipython3",
   "version": "3.12.1"
  }
 },
 "nbformat": 4,
 "nbformat_minor": 5
}
